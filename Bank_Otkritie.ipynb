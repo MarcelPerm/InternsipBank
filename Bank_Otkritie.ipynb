{
  "nbformat": 4,
  "nbformat_minor": 0,
  "metadata": {
    "colab": {
      "provenance": [],
      "authorship_tag": "ABX9TyN1GJs8+W8c5C9EDNXzZEoW",
      "include_colab_link": true
    },
    "kernelspec": {
      "name": "python3",
      "display_name": "Python 3"
    },
    "language_info": {
      "name": "python"
    }
  },
  "cells": [
    {
      "cell_type": "markdown",
      "metadata": {
        "id": "view-in-github",
        "colab_type": "text"
      },
      "source": [
        "<a href=\"https://colab.research.google.com/github/MarcelPerm/InternsipBank/blob/main/Bank_Otkritie.ipynb\" target=\"_parent\"><img src=\"https://colab.research.google.com/assets/colab-badge.svg\" alt=\"Open In Colab\"/></a>"
      ]
    },
    {
      "cell_type": "markdown",
      "source": [
        "Задание 1\n",
        "Напишите программу, вычисляющую площадь всех граней и объем прямоугольного\n",
        "параллелепипеда.\n"
      ],
      "metadata": {
        "id": "GbjUUAv7xsue"
      }
    },
    {
      "cell_type": "code",
      "execution_count": null,
      "metadata": {
        "id": "9E3U7mxfxocp"
      },
      "outputs": [],
      "source": [
        "print('Введите значения a ')\n",
        "a=int(input())\n",
        "print('Введите значения b ')\n",
        "b=int(input())\n",
        "print('Введите значения c ')\n",
        "c=int(input())\n",
        "V=a*b*c\n",
        "S = 2*(a*b + a*c + b*c)\n",
        "print('Объем параллелепипеда = ', V)\n",
        "print('Площадь поверхности параллелепипеда = ', S)"
      ]
    },
    {
      "cell_type": "markdown",
      "source": [
        "# Задание 2\n",
        "На числовой прямой расположены точки A, B, C и D. Напишите программу, которая\n",
        "выведет, во сколько раз отрезок AB больше, чем отрезок CD"
      ],
      "metadata": {
        "id": "oz5dmB3qzdU_"
      }
    },
    {
      "cell_type": "code",
      "source": [
        "a, b, c, d = map(int, input().split())\n",
        " \n",
        "length_ab = abs(b - a)\n",
        "length_cd = abs(d - c)\n",
        " \n",
        "if length_cd == 0:\n",
        "    print(\"Нельзя делить на ноль\")\n",
        "else:\n",
        "    result = round(length_ab / length_cd, 6)\n",
        "    print(result)"
      ],
      "metadata": {
        "id": "VYFxpDXU0UFe"
      },
      "execution_count": null,
      "outputs": []
    },
    {
      "cell_type": "markdown",
      "source": [
        "# Задание 3\n",
        "С некоторого момента прошло некоторое количество дней. Сколько полных недель\n",
        "прошло с этого же момента?\n"
      ],
      "metadata": {
        "id": "Yrwexqj1zdd3"
      }
    },
    {
      "cell_type": "code",
      "source": [
        "def ending_weeks(number_weeks):\n",
        "    if number_weeks % 10 == 1 and number_weeks != 11:\n",
        "        return \"неделя\"\n",
        "    elif 2 <= number_weeks % 10 <= 4 and number_weeks // 10 != 1:\n",
        "        return \"недели\"\n",
        "    else:\n",
        "        return \"недель\"\n",
        " \n",
        "number_of_days = int(input(\"Введите количество прошедших дней:\"))\n",
        "number_weeks = number_of_days // 7\n",
        "print(\"С этого момента прошло :\", number_weeks, ending_weeks(number_weeks))\n",
        "\n"
      ],
      "metadata": {
        "id": "qplMtvlu0Urd"
      },
      "execution_count": null,
      "outputs": []
    },
    {
      "cell_type": "markdown",
      "source": [
        "# Задание 4\n",
        "Одноклеточная амеба каждые 3 часа делится на 2 такие же амёбы. Необходимо\n",
        "определить, сколько будет амеб через n часов, если первоначально была только одна\n",
        "амёба."
      ],
      "metadata": {
        "id": "BZLOeFhhzdq-"
      }
    },
    {
      "cell_type": "code",
      "source": [
        "h = 0\n",
        "amoeba = 1\n",
        "n = int(input())\n",
        "while h + 3 <= n:\n",
        "    h += 3\n",
        "    amoeba *= 2\n",
        "print(amoeba)"
      ],
      "metadata": {
        "id": "ayOyKI2kzkB_"
      },
      "execution_count": null,
      "outputs": []
    },
    {
      "cell_type": "markdown",
      "source": [
        "# Задание 5*\n",
        "Чтобы поднять холодильник на N-й этаж M-этажного дома, Коля вызвал бригаду\n",
        "грузчиков.\n",
        "За подъем холодильника на один этаж требуется заплатить 200 рублей, за спуск на\n",
        "один этаж — 100 рублей. За подъем и спуск на лифте плата не взимается.\n",
        "Несмотря на то, что в Колином доме есть лифт, ему возможно все же придется\n",
        "заплатить грузчикам, поскольку лифт останавливается только на каждом K-м этаже,\n",
        "начиная с первого (то есть на этажах с номерами 1, K+1, 2K+1, 3K+1, …).\n",
        "Требуется вычислить, за какую минимальную сумму грузчики доставят холодильник с\n",
        "первого этажа на этаж Коли"
      ],
      "metadata": {
        "id": "r6SoGQ9a5C8t"
      }
    },
    {
      "cell_type": "code",
      "source": [
        "m =int(input())\n",
        "n = int(input())\n",
        "k = int(input())\n",
        "price_down = 100\n",
        "price_up = 200\n",
        "\n",
        "k_list = range(1, m, k)\n",
        "price = min([price_up*(n - x) if x <= n else (x - n)*price_down for x in k_list])\n",
        "print(price)"
      ],
      "metadata": {
        "id": "WYu5EZl25Cr9"
      },
      "execution_count": null,
      "outputs": []
    },
    {
      "cell_type": "markdown",
      "source": [
        "# Задание 6\n",
        "Во время проведения олимпиады каждый из участников получил свой идентификационный\n",
        "номер. Необходимо отсортировать список участников олимпиады по количеству набранных ими\n",
        "баллов"
      ],
      "metadata": {
        "id": "87x_GjoU6WZV"
      }
    },
    {
      "cell_type": "code",
      "source": [],
      "metadata": {
        "id": "ssRKjnIy6YE-"
      },
      "execution_count": null,
      "outputs": []
    },
    {
      "cell_type": "markdown",
      "source": [
        "# Задание 7\n",
        "Напишите программу генерирующую в файле произвольное 2000-значное целое число.\n",
        "# Задание 8\n",
        "Прочитав число из файла задачи 7, определите:\n",
        "1. Какие цифры встречаются в числе чаще всего? Если несколько цифр\n",
        "встречаются одинаковое максимальное кол-во раз - найди любые.\n",
        "2. Является ли данное число(2000-значное) четным?\n"
      ],
      "metadata": {
        "id": "n2vF4oft6chc"
      }
    },
    {
      "cell_type": "code",
      "source": [
        "import random\n",
        "\n",
        "def generate_random_integer(digits):\n",
        "  integer = \"\"\n",
        "  for i in range(digits):\n",
        "    integer += str(random.randint(0, 9))\n",
        "  return integer\n",
        "\n",
        "def main():\n",
        "  integer = generate_random_integer(2000)\n",
        "  with open(\"2000-digit-integer.txt\", \"w\") as f:\n",
        "    f.write(integer)\n",
        "\n",
        "    print(integer)\n",
        "\n",
        "  # Считаем целое число из файла.\n",
        "  with open(\"2000-digit-integer.txt\", \"r\") as f:\n",
        "    integer = f.read()\n",
        "\n",
        "  # Преобразуем целое число в строку.\n",
        "  integer_string = str(integer)\n",
        "\n",
        "  # Создадим список для хранения частоты каждой цифры.\n",
        "  frequency_list = [0] * 10\n",
        "\n",
        "  # Выполним итерацию по строке и увеличьте частоту каждой цифры.\n",
        "  for digit in integer_string:\n",
        "    frequency_list[int(digit)] += 1\n",
        "\n",
        "  # Найдём цифру с наибольшей частотой.\n",
        "  max_frequency = max(frequency_list)\n",
        "  max_frequency_digit = frequency_list.index(max_frequency)\n",
        "\n",
        "  # Если две или более цифр имеют одинаковую максимальную частоту, верните любую из них.\n",
        "  if max_frequency > 1:\n",
        "    max_frequency_digits = [digit for digit, frequency in enumerate(frequency_list) if frequency == max_frequency]\n",
        "    max_frequency_digit = random.choice(max_frequency_digits)\n",
        "\n",
        "  # Проверим, является ли целое число четным, разделив его на 2 и проверив, равен ли остаток 0.\n",
        "  is_even = int(integer) % 2 == 0\n",
        "\n",
        "  print(\"Наиболее частой цифрой является\", max_frequency_digit)\n",
        "  print(\"Число\", \"чётное\" if is_even else \"нечётное\")\n",
        "\n",
        "if __name__ == \"__main__\":\n",
        "  main()"
      ],
      "metadata": {
        "id": "NFTyTrsB6nGN"
      },
      "execution_count": null,
      "outputs": []
    },
    {
      "cell_type": "markdown",
      "source": [
        "# Задание 9\n",
        "Напишите функцию принимающую на вход целое числом n. И возвращающую список\n",
        "из n элементов. заполненный случайными целыми числами в диапазоне от a до b.\n"
      ],
      "metadata": {
        "id": "-S1SIpsL6nSO"
      }
    },
    {
      "cell_type": "code",
      "source": [
        "def generate_random_list(n, a, b):\n",
        "  n=int(input())\n",
        "  list = []\n",
        "  for i in range(n):\n",
        "    list.append(random.randint(a, b))\n",
        "  return list"
      ],
      "metadata": {
        "id": "Cx38uu-f6nf1"
      },
      "execution_count": null,
      "outputs": []
    },
    {
      "cell_type": "markdown",
      "source": [
        "# Задание 10\n",
        "Дан список. заполненный произвольными числами, для создания списка используйте\n",
        "функцию из задачи 9.\n",
        "Найдите сумму всех положительных элементов оканчивающихся цифрой 7.\n"
      ],
      "metadata": {
        "id": "0ZC-UAKT6nmW"
      }
    },
    {
      "cell_type": "code",
      "source": [
        "import random\n",
        "\n",
        "\n",
        "def generate_random_list(n, a, b):\n",
        "  n=int(input())\n",
        "  list = []\n",
        "  for i in range(n):\n",
        "    list.append(random.randint(a, b))\n",
        "  return list\n",
        "\n",
        "def sum_elements_ending_with_7(list):\n",
        "  sum = 0\n",
        "  for element in list:\n",
        "    if element > 0 and element % 10 == 7:\n",
        "      sum += element\n",
        "  return sum\n",
        "\n",
        "list = generate_random_list(0, -100, 100)\n",
        "print(list)\n",
        "\n",
        "sum = sum_elements_ending_with_7(list)\n",
        "print(sum)"
      ],
      "metadata": {
        "id": "8blaJmS66nsm"
      },
      "execution_count": null,
      "outputs": []
    },
    {
      "cell_type": "markdown",
      "source": [
        "# Задание 12\n",
        "Дан список. заполненный произвольными числами, для создания списка используйте\n",
        "функцию из задачи 9.\n",
        "Найдите самое большое четное число."
      ],
      "metadata": {
        "id": "ECi9WV206nzG"
      }
    },
    {
      "cell_type": "code",
      "source": [
        "import random\n",
        "\n",
        "\n",
        "def generate_random_list(n, a, b):\n",
        "  n=int(input())\n",
        "  list = []\n",
        "  for i in range(n):\n",
        "    list.append(random.randint(a, b))\n",
        "  return list\n",
        "\n",
        "def sum_elements_ending_with_7(list):\n",
        "  sum = 0\n",
        "  for element in list:\n",
        "    if element > 0 and element % 10 == 7:\n",
        "      sum += element\n",
        "  return sum\n",
        "def find_largest_even_number(list):\n",
        "  largest_even_number = -1\n",
        "  for element in list:\n",
        "    if element % 2 == 0 and element > largest_even_number:\n",
        "      largest_even_number = element\n",
        "  return largest_even_number\n",
        "\n",
        "list = generate_random_list(0, -100, 100)\n",
        "print(list)\n",
        "\n",
        "sum = sum_elements_ending_with_7(list)\n",
        "print(sum)\n",
        "\n",
        "largest_even_number = find_largest_even_number(list)\n",
        "print(largest_even_number)"
      ],
      "metadata": {
        "id": "PaT-yGl76n32",
        "colab": {
          "base_uri": "https://localhost:8080/"
        },
        "outputId": "d208787b-71eb-49c0-9cae-11f796524d19"
      },
      "execution_count": null,
      "outputs": [
        {
          "output_type": "stream",
          "name": "stdout",
          "text": [
            "14\n",
            "[4, 60, 42, 54, 80, 92, 34, -44, -99, 22, -37, -64, 53, -75]\n",
            "0\n",
            "92\n"
          ]
        }
      ]
    },
    {
      "cell_type": "markdown",
      "source": [
        "# Задание 13\n",
        "Иван и Петр решили провести турнир по их любимой игре “Камень-Ножницы-Бумага”\n",
        "(правила в примечании).\n",
        "Каждый берет листок бумаги и пишет 10 целых чисел от 1 до 3:\n",
        "\n",
        "1 - Камень\n",
        "\n",
        "2 - Ножницы\n",
        "\n",
        "3 - Бумага\n",
        "\n",
        "Затем они сравнивают свои результаты попарно, т.е. первое число на листе Ивана\n",
        "сравнивается с первым числом Петра. Победителю записывается 1 победное очко и\n",
        "сравнение продолжается для всех 10 чисел.\n",
        "Напишите программу подсчитывающую победные очки друзей и определяющую\n",
        "победителя."
      ],
      "metadata": {
        "id": "gpyaCpHh6n-1"
      }
    },
    {
      "cell_type": "code",
      "source": [
        "ivan_numbers = []\n",
        "peter_numbers = []\n",
        "for i in range(10):\n",
        "    ivan_number = int(input(\"Введите цифру Ивана (1-3): \"))\n",
        "    ivan_numbers.append(ivan_number)\n",
        "\n",
        "for i in range(10):\n",
        "    peter_number = int(input(\"Ведите цифру Пети (1-3): \"))\n",
        "    peter_numbers.append(peter_number)\n",
        "\n",
        "points = {\"Ivan1\": 0, \"Peter\": 0}\n",
        "\n",
        "for i in range(10):\n",
        "    if ivan_numbers[i] > peter_numbers[i]:\n",
        "        points[\"Ivan\"] += 1\n",
        "    elif ivan_numbers[i] < peter_numbers[i]:\n",
        "        points[\"Peter\"] += 1\n",
        "    else:\n",
        "        continue\n",
        "\n",
        "print(\"Иван:\", points[\"Ivan\"])\n",
        "print(\"Пётр:\", points[\"Peter\"])\n",
        "\n",
        "winner = max(points, key=points.get)\n",
        "print(\"Победитель:\", winner)"
      ],
      "metadata": {
        "id": "Q6RHLY143EnW"
      },
      "execution_count": null,
      "outputs": []
    }
  ]
}